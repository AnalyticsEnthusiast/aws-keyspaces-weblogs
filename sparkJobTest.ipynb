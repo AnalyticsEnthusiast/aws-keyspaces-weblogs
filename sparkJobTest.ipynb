{
 "cells": [
  {
   "cell_type": "markdown",
   "metadata": {
    "editable": true
   },
   "source": [
    "# Web Server Logs\n",
    "\n",
    "#### Analysis using pyspark\n",
    "\n",
    "**Name: Darren Foley**\n",
    "**Date: 2021-10-05**"
   ]
  },
  {
   "cell_type": "code",
   "execution_count": 1,
   "metadata": {
    "editable": true
   },
   "outputs": [
    {
     "name": "stdout",
     "output_type": "stream",
     "text": [
      "Requirement already satisfied: pandas in /opt/conda/lib/python3.6/site-packages (0.23.3)\n",
      "Requirement already satisfied: python-dateutil>=2.5.0 in /opt/conda/lib/python3.6/site-packages (from pandas) (2.6.1)\n",
      "Requirement already satisfied: pytz>=2011k in /opt/conda/lib/python3.6/site-packages (from pandas) (2017.3)\n",
      "Requirement already satisfied: numpy>=1.9.0 in /opt/conda/lib/python3.6/site-packages (from pandas) (1.12.1)\n",
      "Requirement already satisfied: six>=1.5 in /opt/conda/lib/python3.6/site-packages (from python-dateutil>=2.5.0->pandas) (1.11.0)\n",
      "Collecting findspark\n",
      "  Downloading https://files.pythonhosted.org/packages/fc/2d/2e39f9a023479ea798eed4351cd66f163ce61e00c717e03c37109f00c0f2/findspark-1.4.2-py2.py3-none-any.whl\n",
      "Installing collected packages: findspark\n",
      "Successfully installed findspark-1.4.2\n"
     ]
    }
   ],
   "source": [
    "!pip install pandas\n",
    "!pip install findspark"
   ]
  },
  {
   "cell_type": "code",
   "execution_count": 15,
   "metadata": {
    "editable": true
   },
   "outputs": [],
   "source": [
    "access_logs = \"data/access_log_sample.txt\""
   ]
  },
  {
   "cell_type": "code",
   "execution_count": 24,
   "metadata": {
    "editable": true
   },
   "outputs": [],
   "source": [
    "import pandas as pd\n",
    "import findspark\n",
    "import re\n",
    "import os\n",
    "\n",
    "from pyspark import SparkConf\n",
    "from pyspark import SparkContext\n",
    "from pyspark.sql.types import StructType, StructField, StringType, DoubleType, LongType\n",
    "from pyspark.sql import SparkSession, SQLContext\n",
    "from pyspark.sql.functions import udf, col, regexp_extract\n",
    "from pyspark.sql.functions import year, month, dayofmonth, hour, weekofyear, date_format\n",
    "from pyspark.sql.window import Window\n",
    "from pyspark.sql.functions import row_number"
   ]
  },
  {
   "cell_type": "code",
   "execution_count": null,
   "metadata": {
    "editable": true
   },
   "outputs": [],
   "source": [
    "import configparser\n",
    "\n",
    "config = configparser.ConfigParser()\n",
    "config.read(\"aws.cfg\")\n",
    "\n",
    "AWS_ACCESS_KEY_M = config.get('MASTER', 'AWS_ACCESS_KEY')\n",
    "AWS_SECRET_KEY_M = config.get('MASTER', 'AWS_SECRET_KEY')\n",
    "\n",
    "AWS_ACCESS_KEY_K = config.get('KINESIS', 'AWS_ACCESS_KEY')\n",
    "AWS_SECRET_KEY_K = config.get('KINESIS', 'AWS_SECRET_KEY')\n",
    "\n",
    "AWS_ACCESS_KEY_F = config.get('FIREHOSE', 'AWS_ACCESS_KEY')\n",
    "AWS_SECRET_KEY_F = config.get('FIREHOSE', 'AWS_SECRET_KEY')\n",
    "\n",
    "#print(AWS_ACCESS_KEY_M)\n",
    "#print(AWS_SECRET_KEY_K)"
   ]
  },
  {
   "cell_type": "code",
   "execution_count": 11,
   "metadata": {
    "editable": true
   },
   "outputs": [],
   "source": [
    "findspark.init()"
   ]
  },
  {
   "cell_type": "code",
   "execution_count": 12,
   "metadata": {
    "editable": true
   },
   "outputs": [],
   "source": [
    "spark = SparkSession \\\n",
    "    .builder \\\n",
    "    .appName(\"WebLogsAnalysis\") \\\n",
    "    .getOrCreate()"
   ]
  },
  {
   "cell_type": "code",
   "execution_count": 27,
   "metadata": {
    "editable": true
   },
   "outputs": [],
   "source": [
    "df = spark.read \\\n",
    "    .option(\"delimiter\", \"\\n\") \\\n",
    "    .option(\"header\", False) \\\n",
    "    .csv(access_logs)\n",
    "\n",
    "df = df.withColumnRenamed(\"_c0\", \"raw_logs\")"
   ]
  },
  {
   "cell_type": "code",
   "execution_count": 28,
   "metadata": {
    "editable": true
   },
   "outputs": [
    {
     "name": "stdout",
     "output_type": "stream",
     "text": [
      "+--------------------+\n",
      "|            raw_logs|\n",
      "+--------------------+\n",
      "|54.36.149.41 - - ...|\n",
      "|31.56.96.51 - - [...|\n",
      "|31.56.96.51 - - [...|\n",
      "|40.77.167.129 - -...|\n",
      "|91.99.72.15 - - [...|\n",
      "|40.77.167.129 - -...|\n",
      "|40.77.167.129 - -...|\n",
      "|40.77.167.129 - -...|\n",
      "|66.249.66.194 - -...|\n",
      "|40.77.167.129 - -...|\n",
      "|207.46.13.136 - -...|\n",
      "|40.77.167.129 - -...|\n",
      "|178.253.33.51 - -...|\n",
      "|40.77.167.129 - -...|\n",
      "|91.99.72.15 - - [...|\n",
      "|40.77.167.129 - -...|\n",
      "|207.46.13.136 - -...|\n",
      "|40.77.167.129 - -...|\n",
      "|40.77.167.129 - -...|\n",
      "|66.249.66.194 - -...|\n",
      "+--------------------+\n",
      "only showing top 20 rows\n",
      "\n"
     ]
    },
    {
     "ename": "AttributeError",
     "evalue": "'NoneType' object has no attribute 'toPandas'",
     "output_type": "error",
     "traceback": [
      "\u001b[0;31m---------------------------------------------------------------------------\u001b[0m",
      "\u001b[0;31mAttributeError\u001b[0m                            Traceback (most recent call last)",
      "\u001b[0;32m<ipython-input-28-efa85e2759d7>\u001b[0m in \u001b[0;36m<module>\u001b[0;34m()\u001b[0m\n\u001b[0;32m----> 1\u001b[0;31m \u001b[0mdf\u001b[0m\u001b[0;34m.\u001b[0m\u001b[0mshow\u001b[0m\u001b[0;34m(\u001b[0m\u001b[0;34m)\u001b[0m\u001b[0;34m.\u001b[0m\u001b[0mtoPandas\u001b[0m\u001b[0;34m(\u001b[0m\u001b[0;34m)\u001b[0m\u001b[0;34m\u001b[0m\u001b[0m\n\u001b[0m",
      "\u001b[0;31mAttributeError\u001b[0m: 'NoneType' object has no attribute 'toPandas'"
     ]
    }
   ],
   "source": [
    "df.show().toPandas()"
   ]
  },
  {
   "cell_type": "markdown",
   "metadata": {
    "editable": true
   },
   "source": [
    "### Convert raw logs into dataframe using regex\n",
    "\n",
    "### Schema defined based on regex groups"
   ]
  },
  {
   "cell_type": "code",
   "execution_count": 37,
   "metadata": {
    "editable": true
   },
   "outputs": [
    {
     "data": {
      "text/html": [
       "<div>\n",
       "<style scoped>\n",
       "    .dataframe tbody tr th:only-of-type {\n",
       "        vertical-align: middle;\n",
       "    }\n",
       "\n",
       "    .dataframe tbody tr th {\n",
       "        vertical-align: top;\n",
       "    }\n",
       "\n",
       "    .dataframe thead th {\n",
       "        text-align: right;\n",
       "    }\n",
       "</style>\n",
       "<table border=\"1\" class=\"dataframe\">\n",
       "  <thead>\n",
       "    <tr style=\"text-align: right;\">\n",
       "      <th></th>\n",
       "      <th>raw_logs</th>\n",
       "      <th>client_ip</th>\n",
       "      <th>rfc931</th>\n",
       "      <th>username</th>\n",
       "      <th>datetime</th>\n",
       "      <th>http_method</th>\n",
       "      <th>http_url</th>\n",
       "      <th>http_protocol</th>\n",
       "      <th>http_status_code</th>\n",
       "      <th>bytes_sent</th>\n",
       "      <th>referrer_url</th>\n",
       "      <th>user_agent</th>\n",
       "      <th>cookies</th>\n",
       "    </tr>\n",
       "  </thead>\n",
       "  <tbody>\n",
       "    <tr>\n",
       "      <th>0</th>\n",
       "      <td>54.36.149.41 - - [22/Jan/2019:03:56:14 +0330] ...</td>\n",
       "      <td>54.36.149.41</td>\n",
       "      <td>-</td>\n",
       "      <td>-</td>\n",
       "      <td>22/Jan/2019:03:56:14 +0330</td>\n",
       "      <td>GET</td>\n",
       "      <td>/filter/27|13%20%D9%85%DA%AF%D8%A7%D9%BE%DB%8C...</td>\n",
       "      <td>HTTP/1.1</td>\n",
       "      <td>200</td>\n",
       "      <td>30577</td>\n",
       "      <td>-</td>\n",
       "      <td>Mozilla/5.0 (compatible; AhrefsBot/6.1; +http:...</td>\n",
       "      <td>-</td>\n",
       "    </tr>\n",
       "    <tr>\n",
       "      <th>1</th>\n",
       "      <td>31.56.96.51 - - [22/Jan/2019:03:56:16 +0330] \"...</td>\n",
       "      <td>31.56.96.51</td>\n",
       "      <td>-</td>\n",
       "      <td>-</td>\n",
       "      <td>22/Jan/2019:03:56:16 +0330</td>\n",
       "      <td>GET</td>\n",
       "      <td>/image/60844/productModel/200x200</td>\n",
       "      <td>HTTP/1.1</td>\n",
       "      <td>200</td>\n",
       "      <td>5667</td>\n",
       "      <td>https://www.zanbil.ir/m/filter/b113</td>\n",
       "      <td>Mozilla/5.0 (Linux; Android 6.0; ALE-L21 Build...</td>\n",
       "      <td>-</td>\n",
       "    </tr>\n",
       "    <tr>\n",
       "      <th>2</th>\n",
       "      <td>31.56.96.51 - - [22/Jan/2019:03:56:16 +0330] \"...</td>\n",
       "      <td>31.56.96.51</td>\n",
       "      <td>-</td>\n",
       "      <td>-</td>\n",
       "      <td>22/Jan/2019:03:56:16 +0330</td>\n",
       "      <td>GET</td>\n",
       "      <td>/image/61474/productModel/200x200</td>\n",
       "      <td>HTTP/1.1</td>\n",
       "      <td>200</td>\n",
       "      <td>5379</td>\n",
       "      <td>https://www.zanbil.ir/m/filter/b113</td>\n",
       "      <td>Mozilla/5.0 (Linux; Android 6.0; ALE-L21 Build...</td>\n",
       "      <td>-</td>\n",
       "    </tr>\n",
       "    <tr>\n",
       "      <th>3</th>\n",
       "      <td>40.77.167.129 - - [22/Jan/2019:03:56:17 +0330]...</td>\n",
       "      <td>40.77.167.129</td>\n",
       "      <td>-</td>\n",
       "      <td>-</td>\n",
       "      <td>22/Jan/2019:03:56:17 +0330</td>\n",
       "      <td>GET</td>\n",
       "      <td>/image/14925/productModel/100x100</td>\n",
       "      <td>HTTP/1.1</td>\n",
       "      <td>200</td>\n",
       "      <td>1696</td>\n",
       "      <td>-</td>\n",
       "      <td>Mozilla/5.0 (compatible; bingbot/2.0; +http://...</td>\n",
       "      <td>-</td>\n",
       "    </tr>\n",
       "    <tr>\n",
       "      <th>4</th>\n",
       "      <td>91.99.72.15 - - [22/Jan/2019:03:56:17 +0330] \"...</td>\n",
       "      <td>91.99.72.15</td>\n",
       "      <td>-</td>\n",
       "      <td>-</td>\n",
       "      <td>22/Jan/2019:03:56:17 +0330</td>\n",
       "      <td>GET</td>\n",
       "      <td>/product/31893/62100/%D8%B3%D8%B4%D9%88%D8%A7%...</td>\n",
       "      <td>HTTP/1.1</td>\n",
       "      <td>200</td>\n",
       "      <td>41483</td>\n",
       "      <td>-</td>\n",
       "      <td>Mozilla/5.0 (Windows NT 6.2; Win64; x64; rv:16...</td>\n",
       "      <td>-</td>\n",
       "    </tr>\n",
       "  </tbody>\n",
       "</table>\n",
       "</div>"
      ],
      "text/plain": [
       "                                            raw_logs      client_ip rfc931  \\\n",
       "0  54.36.149.41 - - [22/Jan/2019:03:56:14 +0330] ...   54.36.149.41      -   \n",
       "1  31.56.96.51 - - [22/Jan/2019:03:56:16 +0330] \"...    31.56.96.51      -   \n",
       "2  31.56.96.51 - - [22/Jan/2019:03:56:16 +0330] \"...    31.56.96.51      -   \n",
       "3  40.77.167.129 - - [22/Jan/2019:03:56:17 +0330]...  40.77.167.129      -   \n",
       "4  91.99.72.15 - - [22/Jan/2019:03:56:17 +0330] \"...    91.99.72.15      -   \n",
       "\n",
       "  username                    datetime http_method  \\\n",
       "0        -  22/Jan/2019:03:56:14 +0330         GET   \n",
       "1        -  22/Jan/2019:03:56:16 +0330         GET   \n",
       "2        -  22/Jan/2019:03:56:16 +0330         GET   \n",
       "3        -  22/Jan/2019:03:56:17 +0330         GET   \n",
       "4        -  22/Jan/2019:03:56:17 +0330         GET   \n",
       "\n",
       "                                            http_url http_protocol  \\\n",
       "0  /filter/27|13%20%D9%85%DA%AF%D8%A7%D9%BE%DB%8C...      HTTP/1.1   \n",
       "1                  /image/60844/productModel/200x200      HTTP/1.1   \n",
       "2                  /image/61474/productModel/200x200      HTTP/1.1   \n",
       "3                  /image/14925/productModel/100x100      HTTP/1.1   \n",
       "4  /product/31893/62100/%D8%B3%D8%B4%D9%88%D8%A7%...      HTTP/1.1   \n",
       "\n",
       "  http_status_code bytes_sent                         referrer_url  \\\n",
       "0              200      30577                                    -   \n",
       "1              200       5667  https://www.zanbil.ir/m/filter/b113   \n",
       "2              200       5379  https://www.zanbil.ir/m/filter/b113   \n",
       "3              200       1696                                    -   \n",
       "4              200      41483                                    -   \n",
       "\n",
       "                                          user_agent cookies  \n",
       "0  Mozilla/5.0 (compatible; AhrefsBot/6.1; +http:...       -  \n",
       "1  Mozilla/5.0 (Linux; Android 6.0; ALE-L21 Build...       -  \n",
       "2  Mozilla/5.0 (Linux; Android 6.0; ALE-L21 Build...       -  \n",
       "3  Mozilla/5.0 (compatible; bingbot/2.0; +http://...       -  \n",
       "4  Mozilla/5.0 (Windows NT 6.2; Win64; x64; rv:16...       -  "
      ]
     },
     "execution_count": 37,
     "metadata": {},
     "output_type": "execute_result"
    }
   ],
   "source": [
    "combined_regex = '^(\\S+) (\\S+) (\\S+) \\[(\\w{1,2}/\\w{3}/\\d{4}:\\d{2}:\\d{2}:\\d{2}\\s[+\\-]\\d{4})\\] \"(\\S+)\\s?(\\S+)?\\s?(\\S+)?\" (\\d{3}|-) (\\d+|-)\\s?\"?([^\"]*)\"?\\s?\"?([^\"]*)?\"\\s?\"?([^\"]*)?\"?$'\n",
    "\n",
    "\n",
    "log_schema = StructType([StructField(\"client_ip\",StringType(),True), \\\n",
    "                         StructField(\"rfc931\",DoubleType(),True), \\\n",
    "                         StructField(\"username\",StringType(),True), \\\n",
    "                         StructField(\"datetime\",DoubleType(),True), \\\n",
    "                         StructField(\"http_method\",StringType(),True), \\\n",
    "                         StructField(\"http_url\",DoubleType(),True), \\\n",
    "                         StructField(\"http_protocol\",LongType(),True), \\\n",
    "                         StructField(\"http_status_code\",StringType(),True), \\\n",
    "                         StructField(\"bytes_sent\",StringType(),True), \\\n",
    "                         StructField(\"referrer_url\",LongType(),True), \\\n",
    "                         StructField(\"user_agent\",StringType(), True), \\\n",
    "                         StructField(\"cookies\", StringType(), True)])\n",
    "\n",
    "df_parsed = df \\\n",
    "            .withColumn(\"client_ip\", regexp_extract(col(\"raw_logs\"), combined_regex, 1)) \\\n",
    "            .withColumn(\"rfc931\", regexp_extract(col(\"raw_logs\"), combined_regex, 2)) \\\n",
    "            .withColumn(\"username\", regexp_extract(col(\"raw_logs\"), combined_regex, 3)) \\\n",
    "            .withColumn(\"datetime\", regexp_extract(col(\"raw_logs\"), combined_regex, 4)) \\\n",
    "            .withColumn(\"http_method\", regexp_extract(col(\"raw_logs\"), combined_regex, 5)) \\\n",
    "            .withColumn(\"http_url\", regexp_extract(col(\"raw_logs\"), combined_regex, 6)) \\\n",
    "            .withColumn(\"http_protocol\", regexp_extract(col(\"raw_logs\"), combined_regex, 7)) \\\n",
    "            .withColumn(\"http_status_code\", regexp_extract(col(\"raw_logs\"), combined_regex, 8)) \\\n",
    "            .withColumn(\"bytes_sent\", regexp_extract(col(\"raw_logs\"), combined_regex, 9)) \\\n",
    "            .withColumn(\"referrer_url\", regexp_extract(col(\"raw_logs\"), combined_regex, 10)) \\\n",
    "            .withColumn(\"user_agent\", regexp_extract(col(\"raw_logs\"), combined_regex, 11)) \\\n",
    "            .withColumn(\"cookies\", regexp_extract(col(\"raw_logs\"), combined_regex, 12))\n",
    "\n",
    "df_parsed.limit(5).toPandas()"
   ]
  },
  {
   "cell_type": "markdown",
   "metadata": {
    "editable": true
   },
   "source": [
    "### Pyspark Streaming job\n",
    "\n",
    "### "
   ]
  }
 ],
 "metadata": {
  "kernelspec": {
   "display_name": "Python 3",
   "language": "python",
   "name": "python3"
  },
  "language_info": {
   "codemirror_mode": {
    "name": "ipython",
    "version": 3
   },
   "file_extension": ".py",
   "mimetype": "text/x-python",
   "name": "python",
   "nbconvert_exporter": "python",
   "pygments_lexer": "ipython3",
   "version": "3.6.3"
  }
 },
 "nbformat": 4,
 "nbformat_minor": 4
}
